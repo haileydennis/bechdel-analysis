{
 "cells": [
  {
   "cell_type": "code",
   "execution_count": 28,
   "id": "8a44b99c",
   "metadata": {},
   "outputs": [],
   "source": [
    "import pandas as pd\n",
    "import numpy as np\n",
    "from sklearn.feature_extraction.text import CountVectorizer, TfidfVectorizer\n",
    "from sklearn.model_selection import train_test_split\n",
    "from sklearn.linear_model import LogisticRegression\n",
    "from sklearn import metrics"
   ]
  },
  {
   "cell_type": "code",
   "execution_count": 31,
   "id": "4873154c",
   "metadata": {},
   "outputs": [
    {
     "data": {
      "text/html": [
       "<div>\n",
       "<style scoped>\n",
       "    .dataframe tbody tr th:only-of-type {\n",
       "        vertical-align: middle;\n",
       "    }\n",
       "\n",
       "    .dataframe tbody tr th {\n",
       "        vertical-align: top;\n",
       "    }\n",
       "\n",
       "    .dataframe thead th {\n",
       "        text-align: right;\n",
       "    }\n",
       "</style>\n",
       "<table border=\"1\" class=\"dataframe\">\n",
       "  <thead>\n",
       "    <tr style=\"text-align: right;\">\n",
       "      <th></th>\n",
       "      <th>year</th>\n",
       "      <th>imdb</th>\n",
       "      <th>title</th>\n",
       "      <th>clean_test</th>\n",
       "      <th>budget_2013$</th>\n",
       "      <th>binary_PASS</th>\n",
       "      <th>domgross_2013$</th>\n",
       "      <th>genres</th>\n",
       "      <th>prod_comps</th>\n",
       "      <th>overview</th>\n",
       "      <th>perc_women_producers</th>\n",
       "      <th>perc_women_directors</th>\n",
       "    </tr>\n",
       "  </thead>\n",
       "  <tbody>\n",
       "    <tr>\n",
       "      <th>0</th>\n",
       "      <td>2013</td>\n",
       "      <td>tt1711425</td>\n",
       "      <td>21 &amp;amp; Over</td>\n",
       "      <td>notalk</td>\n",
       "      <td>13000000</td>\n",
       "      <td>0</td>\n",
       "      <td>25682380.0</td>\n",
       "      <td>['Comedy']</td>\n",
       "      <td>['Mandeville Films', 'Relativity Media', 'SkyL...</td>\n",
       "      <td>Brilliant student Jeff Chang has the most impo...</td>\n",
       "      <td>0.00</td>\n",
       "      <td>0.0</td>\n",
       "    </tr>\n",
       "    <tr>\n",
       "      <th>1</th>\n",
       "      <td>2012</td>\n",
       "      <td>tt1343727</td>\n",
       "      <td>Dredd 3D</td>\n",
       "      <td>ok</td>\n",
       "      <td>45658735</td>\n",
       "      <td>1</td>\n",
       "      <td>13611086.0</td>\n",
       "      <td>['Action', 'Science Fiction']</td>\n",
       "      <td>['Rena Film', 'DNA Films', 'Reliance Big Enter...</td>\n",
       "      <td>In the future, America is a dystopian wastelan...</td>\n",
       "      <td>0.00</td>\n",
       "      <td>0.0</td>\n",
       "    </tr>\n",
       "    <tr>\n",
       "      <th>2</th>\n",
       "      <td>2013</td>\n",
       "      <td>tt2024544</td>\n",
       "      <td>12 Years a Slave</td>\n",
       "      <td>notalk</td>\n",
       "      <td>20000000</td>\n",
       "      <td>0</td>\n",
       "      <td>53107035.0</td>\n",
       "      <td>['Drama', 'History']</td>\n",
       "      <td>['New Regency Pictures', 'Plan B Entertainment...</td>\n",
       "      <td>In the pre-Civil War United States, Solomon No...</td>\n",
       "      <td>0.25</td>\n",
       "      <td>0.0</td>\n",
       "    </tr>\n",
       "    <tr>\n",
       "      <th>3</th>\n",
       "      <td>2013</td>\n",
       "      <td>tt1272878</td>\n",
       "      <td>2 Guns</td>\n",
       "      <td>notalk</td>\n",
       "      <td>61000000</td>\n",
       "      <td>0</td>\n",
       "      <td>75612460.0</td>\n",
       "      <td>['Action', 'Comedy', 'Crime']</td>\n",
       "      <td>['Universal Pictures', 'Marc Platt Productions...</td>\n",
       "      <td>A DEA agent and an undercover Naval Intelligen...</td>\n",
       "      <td>0.00</td>\n",
       "      <td>0.0</td>\n",
       "    </tr>\n",
       "    <tr>\n",
       "      <th>4</th>\n",
       "      <td>2013</td>\n",
       "      <td>tt0453562</td>\n",
       "      <td>42</td>\n",
       "      <td>men</td>\n",
       "      <td>40000000</td>\n",
       "      <td>0</td>\n",
       "      <td>95020213.0</td>\n",
       "      <td>['Drama']</td>\n",
       "      <td>['Warner Bros. Pictures', 'Legendary Pictures']</td>\n",
       "      <td>The powerful story of Jackie Robinson, the leg...</td>\n",
       "      <td>0.00</td>\n",
       "      <td>0.0</td>\n",
       "    </tr>\n",
       "    <tr>\n",
       "      <th>...</th>\n",
       "      <td>...</td>\n",
       "      <td>...</td>\n",
       "      <td>...</td>\n",
       "      <td>...</td>\n",
       "      <td>...</td>\n",
       "      <td>...</td>\n",
       "      <td>...</td>\n",
       "      <td>...</td>\n",
       "      <td>...</td>\n",
       "      <td>...</td>\n",
       "      <td>...</td>\n",
       "      <td>...</td>\n",
       "    </tr>\n",
       "    <tr>\n",
       "      <th>1725</th>\n",
       "      <td>1971</td>\n",
       "      <td>tt0067741</td>\n",
       "      <td>Shaft</td>\n",
       "      <td>notalk</td>\n",
       "      <td>305063707</td>\n",
       "      <td>0</td>\n",
       "      <td>404702718.0</td>\n",
       "      <td>['Action', 'Crime', 'Thriller']</td>\n",
       "      <td>['Shaft Productions', 'Metro-Goldwyn-Mayer']</td>\n",
       "      <td>Cool black private eye John Shaft is hired by ...</td>\n",
       "      <td>0.00</td>\n",
       "      <td>0.0</td>\n",
       "    </tr>\n",
       "    <tr>\n",
       "      <th>1726</th>\n",
       "      <td>1971</td>\n",
       "      <td>tt0067800</td>\n",
       "      <td>Straw Dogs</td>\n",
       "      <td>notalk</td>\n",
       "      <td>143862856</td>\n",
       "      <td>0</td>\n",
       "      <td>59412143.0</td>\n",
       "      <td>['Crime', 'Drama', 'Thriller']</td>\n",
       "      <td>['ABC Pictures']</td>\n",
       "      <td>David Sumner, a mild-mannered academic from th...</td>\n",
       "      <td>0.00</td>\n",
       "      <td>0.0</td>\n",
       "    </tr>\n",
       "    <tr>\n",
       "      <th>1727</th>\n",
       "      <td>1971</td>\n",
       "      <td>tt0067116</td>\n",
       "      <td>The French Connection</td>\n",
       "      <td>notalk</td>\n",
       "      <td>12659931</td>\n",
       "      <td>0</td>\n",
       "      <td>236848653.0</td>\n",
       "      <td>['Action', 'Crime', 'Thriller']</td>\n",
       "      <td>[\"D'Antoni Productions\", 'Schine-Moore Product...</td>\n",
       "      <td>Tough narcotics detective 'Popeye' Doyle is in...</td>\n",
       "      <td>0.00</td>\n",
       "      <td>0.0</td>\n",
       "    </tr>\n",
       "    <tr>\n",
       "      <th>1728</th>\n",
       "      <td>1971</td>\n",
       "      <td>tt0067992</td>\n",
       "      <td>Willy Wonka &amp;amp; the Chocolate Factory</td>\n",
       "      <td>men</td>\n",
       "      <td>17263543</td>\n",
       "      <td>0</td>\n",
       "      <td>23018057.0</td>\n",
       "      <td>['Family', 'Fantasy', 'Comedy']</td>\n",
       "      <td>['David L. Wolper Productions']</td>\n",
       "      <td>When eccentric candy man Willy Wonka promises ...</td>\n",
       "      <td>0.00</td>\n",
       "      <td>0.0</td>\n",
       "    </tr>\n",
       "    <tr>\n",
       "      <th>1729</th>\n",
       "      <td>1970</td>\n",
       "      <td>tt0065466</td>\n",
       "      <td>Beyond the Valley of the Dolls</td>\n",
       "      <td>ok</td>\n",
       "      <td>5997631</td>\n",
       "      <td>1</td>\n",
       "      <td>53978683.0</td>\n",
       "      <td>['Comedy', 'Drama', 'Thriller']</td>\n",
       "      <td>['20th Century Fox']</td>\n",
       "      <td>An all-female rock group finds fame, love, and...</td>\n",
       "      <td>0.00</td>\n",
       "      <td>0.0</td>\n",
       "    </tr>\n",
       "  </tbody>\n",
       "</table>\n",
       "<p>1730 rows × 12 columns</p>\n",
       "</div>"
      ],
      "text/plain": [
       "      year       imdb                                    title clean_test  \\\n",
       "0     2013  tt1711425                            21 &amp; Over     notalk   \n",
       "1     2012  tt1343727                                 Dredd 3D         ok   \n",
       "2     2013  tt2024544                         12 Years a Slave     notalk   \n",
       "3     2013  tt1272878                                   2 Guns     notalk   \n",
       "4     2013  tt0453562                                       42        men   \n",
       "...    ...        ...                                      ...        ...   \n",
       "1725  1971  tt0067741                                    Shaft     notalk   \n",
       "1726  1971  tt0067800                               Straw Dogs     notalk   \n",
       "1727  1971  tt0067116                    The French Connection     notalk   \n",
       "1728  1971  tt0067992  Willy Wonka &amp; the Chocolate Factory        men   \n",
       "1729  1970  tt0065466           Beyond the Valley of the Dolls         ok   \n",
       "\n",
       "      budget_2013$  binary_PASS  domgross_2013$  \\\n",
       "0         13000000            0      25682380.0   \n",
       "1         45658735            1      13611086.0   \n",
       "2         20000000            0      53107035.0   \n",
       "3         61000000            0      75612460.0   \n",
       "4         40000000            0      95020213.0   \n",
       "...            ...          ...             ...   \n",
       "1725     305063707            0     404702718.0   \n",
       "1726     143862856            0      59412143.0   \n",
       "1727      12659931            0     236848653.0   \n",
       "1728      17263543            0      23018057.0   \n",
       "1729       5997631            1      53978683.0   \n",
       "\n",
       "                               genres  \\\n",
       "0                          ['Comedy']   \n",
       "1       ['Action', 'Science Fiction']   \n",
       "2                ['Drama', 'History']   \n",
       "3       ['Action', 'Comedy', 'Crime']   \n",
       "4                           ['Drama']   \n",
       "...                               ...   \n",
       "1725  ['Action', 'Crime', 'Thriller']   \n",
       "1726   ['Crime', 'Drama', 'Thriller']   \n",
       "1727  ['Action', 'Crime', 'Thriller']   \n",
       "1728  ['Family', 'Fantasy', 'Comedy']   \n",
       "1729  ['Comedy', 'Drama', 'Thriller']   \n",
       "\n",
       "                                             prod_comps  \\\n",
       "0     ['Mandeville Films', 'Relativity Media', 'SkyL...   \n",
       "1     ['Rena Film', 'DNA Films', 'Reliance Big Enter...   \n",
       "2     ['New Regency Pictures', 'Plan B Entertainment...   \n",
       "3     ['Universal Pictures', 'Marc Platt Productions...   \n",
       "4       ['Warner Bros. Pictures', 'Legendary Pictures']   \n",
       "...                                                 ...   \n",
       "1725       ['Shaft Productions', 'Metro-Goldwyn-Mayer']   \n",
       "1726                                   ['ABC Pictures']   \n",
       "1727  [\"D'Antoni Productions\", 'Schine-Moore Product...   \n",
       "1728                    ['David L. Wolper Productions']   \n",
       "1729                               ['20th Century Fox']   \n",
       "\n",
       "                                               overview  perc_women_producers  \\\n",
       "0     Brilliant student Jeff Chang has the most impo...                  0.00   \n",
       "1     In the future, America is a dystopian wastelan...                  0.00   \n",
       "2     In the pre-Civil War United States, Solomon No...                  0.25   \n",
       "3     A DEA agent and an undercover Naval Intelligen...                  0.00   \n",
       "4     The powerful story of Jackie Robinson, the leg...                  0.00   \n",
       "...                                                 ...                   ...   \n",
       "1725  Cool black private eye John Shaft is hired by ...                  0.00   \n",
       "1726  David Sumner, a mild-mannered academic from th...                  0.00   \n",
       "1727  Tough narcotics detective 'Popeye' Doyle is in...                  0.00   \n",
       "1728  When eccentric candy man Willy Wonka promises ...                  0.00   \n",
       "1729  An all-female rock group finds fame, love, and...                  0.00   \n",
       "\n",
       "      perc_women_directors  \n",
       "0                      0.0  \n",
       "1                      0.0  \n",
       "2                      0.0  \n",
       "3                      0.0  \n",
       "4                      0.0  \n",
       "...                    ...  \n",
       "1725                   0.0  \n",
       "1726                   0.0  \n",
       "1727                   0.0  \n",
       "1728                   0.0  \n",
       "1729                   0.0  \n",
       "\n",
       "[1730 rows x 12 columns]"
      ]
     },
     "execution_count": 31,
     "metadata": {},
     "output_type": "execute_result"
    }
   ],
   "source": [
    "data = pd.read_csv(\"bechdel_analysis_data_cleaned.csv\", float_precision=None)\n",
    "data"
   ]
  },
  {
   "cell_type": "code",
   "execution_count": 3,
   "id": "304e1a36",
   "metadata": {},
   "outputs": [],
   "source": []
  },
  {
   "cell_type": "code",
   "execution_count": 32,
   "id": "fb3fbcca",
   "metadata": {},
   "outputs": [],
   "source": [
    "vectorizer = CountVectorizer()\n",
    "overviews_bag = vectorizer.fit_transform(data[\"overview\"])\n",
    "titles_bag = vectorizer.fit_transform(data[\"title\"])"
   ]
  },
  {
   "cell_type": "code",
   "execution_count": 33,
   "id": "627c8fa1",
   "metadata": {},
   "outputs": [
    {
     "data": {
      "text/plain": [
       "array(['10', '12', '123', ..., 'zoom', 'zorro', 'zwartboek'], dtype=object)"
      ]
     },
     "execution_count": 33,
     "metadata": {},
     "output_type": "execute_result"
    }
   ],
   "source": [
    "vectorizer.get_feature_names_out()"
   ]
  },
  {
   "cell_type": "code",
   "execution_count": 34,
   "id": "0be8d9fe",
   "metadata": {},
   "outputs": [
    {
     "data": {
      "text/plain": [
       "array([0, 0, 0, ..., 0, 0, 0], dtype=int64)"
      ]
     },
     "execution_count": 34,
     "metadata": {},
     "output_type": "execute_result"
    }
   ],
   "source": [
    "type(overviews_bag.toarray())\n",
    "overviews_bag.toarray()[0]"
   ]
  },
  {
   "cell_type": "code",
   "execution_count": 69,
   "id": "aa1d0d22",
   "metadata": {},
   "outputs": [],
   "source": [
    "\n",
    "X = overviews_bag.toarray()\n",
    "y = data[\"binary_PASS\"]\n",
    "\n",
    "X_train, X_test, y_train, y_test = train_test_split(X, y)\n",
    "lr = LogisticRegression(C=100.0, random_state=1, solver='lbfgs', multi_class='ovr', max_iter=300)"
   ]
  },
  {
   "cell_type": "code",
   "execution_count": 70,
   "id": "e3b492ff",
   "metadata": {},
   "outputs": [],
   "source": [
    "lr.fit(X_train, y_train)\n",
    "y_pred = lr.predict(X_test)\n"
   ]
  },
  {
   "cell_type": "code",
   "execution_count": 71,
   "id": "9b1ee673",
   "metadata": {},
   "outputs": [
    {
     "data": {
      "text/plain": [
       "0.6697459584295612"
      ]
     },
     "execution_count": 71,
     "metadata": {},
     "output_type": "execute_result"
    }
   ],
   "source": [
    "metrics.accuracy_score(y_test, y_pred)"
   ]
  },
  {
   "cell_type": "code",
   "execution_count": 73,
   "id": "c3db966e",
   "metadata": {},
   "outputs": [
    {
     "name": "stdout",
     "output_type": "stream",
     "text": [
      "              TF-IDF\n",
      "debauchery  0.248478\n",
      "evolves     0.248478\n",
      "chang       0.248478\n",
      "casual      0.235501\n",
      "derail      0.235501\n"
     ]
    },
    {
     "data": {
      "text/plain": [
       "12036"
      ]
     },
     "execution_count": 73,
     "metadata": {},
     "output_type": "execute_result"
    }
   ],
   "source": [
    "tfIdfVectorizer=TfidfVectorizer(use_idf=True)\n",
    "tfIdf = tfIdfVectorizer.fit_transform(data[\"overview\"])\n",
    "df = pd.DataFrame(tfIdf[0].T.todense(), index=tfIdfVectorizer.get_feature_names_out(), columns=[\"TF-IDF\"])\n",
    "df = df.sort_values('TF-IDF', ascending=False)\n",
    "print (df.head())\n",
    "len(df)"
   ]
  },
  {
   "cell_type": "code",
   "execution_count": 42,
   "id": "244bc9aa",
   "metadata": {},
   "outputs": [],
   "source": [
    "X = tfIdf.toarray()\n",
    "y = data[\"binary_PASS\"]\n",
    "\n",
    "X_train, X_test, y_train, y_test = train_test_split(X, y)\n",
    "lr = LogisticRegression(C=100.0, random_state=1, solver='lbfgs', multi_class='ovr')"
   ]
  },
  {
   "cell_type": "code",
   "execution_count": 43,
   "id": "fae2f594",
   "metadata": {},
   "outputs": [],
   "source": [
    "lr.fit(X_train, y_train)\n",
    "y_pred = lr.predict(X_test)"
   ]
  },
  {
   "cell_type": "code",
   "execution_count": 44,
   "id": "f7b66d9d",
   "metadata": {},
   "outputs": [
    {
     "data": {
      "text/plain": [
       "0.6789838337182448"
      ]
     },
     "execution_count": 44,
     "metadata": {},
     "output_type": "execute_result"
    }
   ],
   "source": [
    "metrics.accuracy_score(y_test, y_pred)"
   ]
  },
  {
   "cell_type": "code",
   "execution_count": null,
   "id": "e1eed8f5",
   "metadata": {},
   "outputs": [],
   "source": []
  },
  {
   "cell_type": "code",
   "execution_count": 66,
   "id": "a301d538",
   "metadata": {},
   "outputs": [],
   "source": [
    "X = titles_bag.toarray()\n",
    "y = data[\"binary_PASS\"]\n",
    "\n",
    "X_train, X_test, y_train, y_test = train_test_split(X, y)\n",
    "lr = LogisticRegression(C=100.0, random_state=1, solver='lbfgs', multi_class='ovr')"
   ]
  },
  {
   "cell_type": "code",
   "execution_count": 67,
   "id": "b387ce22",
   "metadata": {},
   "outputs": [
    {
     "name": "stderr",
     "output_type": "stream",
     "text": [
      "C:\\Users\\tyguy\\anaconda3\\lib\\site-packages\\sklearn\\linear_model\\_logistic.py:458: ConvergenceWarning: lbfgs failed to converge (status=1):\n",
      "STOP: TOTAL NO. of ITERATIONS REACHED LIMIT.\n",
      "\n",
      "Increase the number of iterations (max_iter) or scale the data as shown in:\n",
      "    https://scikit-learn.org/stable/modules/preprocessing.html\n",
      "Please also refer to the documentation for alternative solver options:\n",
      "    https://scikit-learn.org/stable/modules/linear_model.html#logistic-regression\n",
      "  n_iter_i = _check_optimize_result(\n"
     ]
    }
   ],
   "source": [
    "lr.fit(X_train, y_train)\n",
    "y_pred = lr.predict(X_test)"
   ]
  },
  {
   "cell_type": "code",
   "execution_count": 68,
   "id": "ca9aa0c8",
   "metadata": {},
   "outputs": [
    {
     "data": {
      "text/plain": [
       "0.5842956120092379"
      ]
     },
     "execution_count": 68,
     "metadata": {},
     "output_type": "execute_result"
    }
   ],
   "source": [
    "metrics.accuracy_score(y_test, y_pred)"
   ]
  },
  {
   "cell_type": "code",
   "execution_count": 46,
   "id": "77575645",
   "metadata": {},
   "outputs": [
    {
     "name": "stdout",
     "output_type": "stream",
     "text": [
      "           TF-IDF\n",
      "over     0.625321\n",
      "21       0.625321\n",
      "amp      0.466849\n",
      "planner  0.000000\n",
      "place    0.000000\n"
     ]
    }
   ],
   "source": [
    "tfIdfVectorizer=TfidfVectorizer(use_idf=True)\n",
    "tfIdf = tfIdfVectorizer.fit_transform(data[\"title\"])\n",
    "df = pd.DataFrame(tfIdf[0].T.todense(), index=tfIdfVectorizer.get_feature_names_out(), columns=[\"TF-IDF\"])\n",
    "df = df.sort_values('TF-IDF', ascending=False)\n",
    "print (df.head())\n"
   ]
  },
  {
   "cell_type": "code",
   "execution_count": 57,
   "id": "c0c71cf0",
   "metadata": {},
   "outputs": [],
   "source": [
    "X = tfIdf.toarray()\n",
    "y = data[\"binary_PASS\"]\n",
    "\n",
    "X_train, X_test, y_train, y_test = train_test_split(X, y)\n",
    "lr = LogisticRegression(C=100.0, random_state=1, solver='lbfgs', multi_class='ovr', max_iter=100)"
   ]
  },
  {
   "cell_type": "code",
   "execution_count": 58,
   "id": "63d758dc",
   "metadata": {},
   "outputs": [
    {
     "name": "stderr",
     "output_type": "stream",
     "text": [
      "C:\\Users\\tyguy\\anaconda3\\lib\\site-packages\\sklearn\\linear_model\\_logistic.py:458: ConvergenceWarning: lbfgs failed to converge (status=1):\n",
      "STOP: TOTAL NO. of ITERATIONS REACHED LIMIT.\n",
      "\n",
      "Increase the number of iterations (max_iter) or scale the data as shown in:\n",
      "    https://scikit-learn.org/stable/modules/preprocessing.html\n",
      "Please also refer to the documentation for alternative solver options:\n",
      "    https://scikit-learn.org/stable/modules/linear_model.html#logistic-regression\n",
      "  n_iter_i = _check_optimize_result(\n"
     ]
    }
   ],
   "source": [
    "lr.fit(X_train, y_train)\n",
    "y_pred = lr.predict(X_test)"
   ]
  },
  {
   "cell_type": "code",
   "execution_count": 59,
   "id": "5a826f65",
   "metadata": {},
   "outputs": [
    {
     "data": {
      "text/plain": [
       "0.5542725173210161"
      ]
     },
     "execution_count": 59,
     "metadata": {},
     "output_type": "execute_result"
    }
   ],
   "source": [
    "metrics.accuracy_score(y_test, y_pred)"
   ]
  }
 ],
 "metadata": {
  "kernelspec": {
   "display_name": "Python 3 (ipykernel)",
   "language": "python",
   "name": "python3"
  },
  "language_info": {
   "codemirror_mode": {
    "name": "ipython",
    "version": 3
   },
   "file_extension": ".py",
   "mimetype": "text/x-python",
   "name": "python",
   "nbconvert_exporter": "python",
   "pygments_lexer": "ipython3",
   "version": "3.9.16"
  }
 },
 "nbformat": 4,
 "nbformat_minor": 5
}
