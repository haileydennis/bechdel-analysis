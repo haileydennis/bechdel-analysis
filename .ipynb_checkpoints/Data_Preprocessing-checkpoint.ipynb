{
 "cells": [
  {
   "cell_type": "markdown",
   "id": "205c5cc3",
   "metadata": {},
   "source": [
    "# Data Preprocessing"
   ]
  },
  {
   "cell_type": "code",
   "execution_count": 1,
   "id": "6223616d",
   "metadata": {
    "scrolled": true
   },
   "outputs": [],
   "source": [
    "import pandas as pd\n",
    "import numpy as np\n",
    "import requests\n",
    "import os"
   ]
  },
  {
   "cell_type": "code",
   "execution_count": 2,
   "id": "e1ab4fa2",
   "metadata": {},
   "outputs": [],
   "source": [
    "# Get five-thirty-eight bechdel data\n",
    "def get_five_thirty_eight_bechdel_data():\n",
    "    data = pd.read_csv(\"https://raw.githubusercontent.com/fivethirtyeight/data/master/bechdel/movies.csv\")\n",
    "    select_columns = data[['year', 'imdb', 'title', 'clean_test', 'binary', 'budget_2013$', 'domgross_2013$', 'intgross_2013$']]\n",
    "    return select_columns"
   ]
  },
  {
   "cell_type": "code",
   "execution_count": 3,
   "id": "980556c4",
   "metadata": {
    "scrolled": true
   },
   "outputs": [],
   "source": [
    "# Print correlation and covariance matrices\n",
    "def print_corr_cov_matrices(data):\n",
    "    print(data.corr())\n",
    "    print(data.cov())"
   ]
  },
  {
   "cell_type": "code",
   "execution_count": 4,
   "id": "31f9c43e",
   "metadata": {},
   "outputs": [],
   "source": [
    "# Check for duplicates: True if duplicates were found, False if all data is unique\n",
    "def check_duplicates(data):\n",
    "    if len(select_columns['imdb']) != len(select_columns['imdb'].unique()):\n",
    "        return True\n",
    "    else:\n",
    "        return False"
   ]
  },
  {
   "cell_type": "code",
   "execution_count": 5,
   "id": "16fa93bc",
   "metadata": {},
   "outputs": [],
   "source": [
    "# Add column to dataframe\n",
    "def add_column(df, col_name, new_list):\n",
    "    df.insert(len(df.columns), str(col_name), new_list)\n",
    "    return df"
   ]
  },
  {
   "cell_type": "code",
   "execution_count": 6,
   "id": "b1ea53f2",
   "metadata": {
    "scrolled": true
   },
   "outputs": [
    {
     "name": "stdout",
     "output_type": "stream",
     "text": [
      "      year       imdb                                    title clean_test  \\\n",
      "0     2013  tt1711425                            21 &amp; Over     notalk   \n",
      "1     2012  tt1343727                                 Dredd 3D         ok   \n",
      "2     2013  tt2024544                         12 Years a Slave     notalk   \n",
      "3     2013  tt1272878                                   2 Guns     notalk   \n",
      "4     2013  tt0453562                                       42        men   \n",
      "...    ...        ...                                      ...        ...   \n",
      "1771  1971  tt0067741                                    Shaft     notalk   \n",
      "1772  1971  tt0067800                               Straw Dogs     notalk   \n",
      "1773  1971  tt0067116                    The French Connection     notalk   \n",
      "1774  1971  tt0067992  Willy Wonka &amp; the Chocolate Factory        men   \n",
      "1775  1970  tt0065466           Beyond the Valley of the Dolls         ok   \n",
      "\n",
      "     binary  budget_2013$  domgross_2013$  intgross_2013$  adult  \\\n",
      "0      FAIL      13000000      25682380.0      42195766.0  False   \n",
      "1      PASS      45658735      13611086.0      41467257.0  False   \n",
      "2      FAIL      20000000      53107035.0     158607035.0  False   \n",
      "3      FAIL      61000000      75612460.0     132493015.0  False   \n",
      "4      FAIL      40000000      95020213.0      95020213.0  False   \n",
      "...     ...           ...             ...             ...    ...   \n",
      "1771   FAIL     305063707     404702718.0     616827003.0  False   \n",
      "1772   FAIL     143862856      59412143.0      64760273.0  False   \n",
      "1773   FAIL      12659931     236848653.0     236848653.0  False   \n",
      "1774   FAIL      17263543      23018057.0      23018057.0  False   \n",
      "1775   PASS       5997631      53978683.0      53978683.0  False   \n",
      "\n",
      "                                     genres  \\\n",
      "0                                    Comedy   \n",
      "1                    Action,Science Fiction   \n",
      "2                             Drama,History   \n",
      "3                       Action,Comedy,Crime   \n",
      "4                                     Drama   \n",
      "...                                     ...   \n",
      "1771                                  Drama   \n",
      "1772  Comedy,Science Fiction,Fantasy,Horror   \n",
      "1773                Horror,Mystery,Thriller   \n",
      "1774                         Western,Comedy   \n",
      "1775                    Crime,Drama,Mystery   \n",
      "\n",
      "                                             prod_comps  \\\n",
      "0     Mandeville Films,Relativity Media,SkyLand Ente...   \n",
      "1     Rena Film,DNA Films,Reliance Big Entertainment...   \n",
      "2     New Regency Pictures,Plan B Entertainment,Rive...   \n",
      "3     Universal Pictures,Marc Platt Productions,EFO ...   \n",
      "4              Warner Bros. Pictures,Legendary Pictures   \n",
      "...                                                 ...   \n",
      "1771                                      Fantasy Films   \n",
      "1772         Michael White Productions,20th Century Fox   \n",
      "1773  August Films,Film Funding Ltd. of Canada,Visio...   \n",
      "1774         Crossbow Productions,Warner Bros. Pictures   \n",
      "1775  Paramount,The Directors Company,The Coppola Co...   \n",
      "\n",
      "                                               overview  \\\n",
      "0     Brilliant student Jeff Chang has the most impo...   \n",
      "1     In the future, America is a dystopian wastelan...   \n",
      "2     In the pre-Civil War United States, Solomon No...   \n",
      "3     A DEA agent and an undercover Naval Intelligen...   \n",
      "4     The powerful story of Jackie Robinson, the leg...   \n",
      "...                                                 ...   \n",
      "1771  A petty criminal fakes insanity to serve his s...   \n",
      "1772  Sweethearts Brad and Janet, stuck with a flat ...   \n",
      "1773  During their Christmas break, a group of soror...   \n",
      "1774  A town—where everyone seems to be named Johnso...   \n",
      "1775  Surveillance expert Harry Caul is hired by a m...   \n",
      "\n",
      "                                                tagline  \n",
      "0                                              Finally.  \n",
      "1                                   Judgement is coming  \n",
      "2       The extraordinary true story of Solomon Northup  \n",
      "3                                       2 Guns, 1 Bank.  \n",
      "4                  The True Story of an American Legend  \n",
      "...                                                 ...  \n",
      "1771            If he's crazy, what does that make you?  \n",
      "1772                           A different set of jaws.  \n",
      "1773  If this picture doesn’t make your skin crawl.....  \n",
      "1774                   Never give a saga an even break!  \n",
      "1775  Harry Caul is an invader of privacy. The best ...  \n",
      "\n",
      "[1776 rows x 13 columns]\n"
     ]
    }
   ],
   "source": [
    "# Populate data\n",
    "data_file_name = \"bechdel_analysis_data.csv\"\n",
    "data_file_path = \"./bechdel_analysis_data.csv\"\n",
    "\n",
    "# See if data has already been populated in the current directory\n",
    "if os.path.isfile(data_file_path):\n",
    "    select_columns = pd.read_csv(data_file_path)\n",
    "    print(select_columns)\n",
    "else:\n",
    "    select_columns = get_five_thirty_eight_bechdel_data()\n",
    "    \n",
    "    #Gather TMDB data - setup\n",
    "    tmdb_api_key = \"55d7071c3daf17bcf8cc0f4a6f688a24\"\n",
    "    movie_ids = select_columns['imdb']\n",
    "\n",
    "    # Initialize empty arrays\n",
    "    adult = [None] * len(movie_ids)\n",
    "    genres = [None] * len(movie_ids)\n",
    "    prod_comps = [None] * len(movie_ids)\n",
    "    overview = [None] * len(movie_ids)\n",
    "    tagline = [None] * len(movie_ids)\n",
    "    \n",
    "    # Query the API for data\n",
    "    for i in range(len(movie_ids)):\n",
    "        try:\n",
    "            response = requests.get(\"https://api.themoviedb.org/3/movie/\" + str(movie_ids[i]) + \"?api_key=\" + str(tmdb_api_key) + \"&language=en-US\").json()\n",
    "            adult[i] = response['adult']\n",
    "            genres[i] = ','.join([ genre['name'] for genre in response['genres']])\n",
    "            prod_comps[i] = ','.join([company['name'] for company in response['production_companies']])\n",
    "            overview[i] = response['overview']\n",
    "            tagline[i] = response['tagline']\n",
    "        except Exception as err:\n",
    "            print(f\"Unexpected {err=}, {type(err)=}\")\n",
    "            continue\n",
    "            \n",
    "    # Add desired columns to select_columns\n",
    "    desired_cols = {'adult': adult, 'genres': genres, 'prod_comps': prod_comps, 'overview':overview, 'tagline':tagline}\n",
    "    for key in desired_cols.keys():\n",
    "        select_columns = add_column(select_columns, key, desired_cols[key])\n",
    "        \n",
    "    #Save to csv so we don't have to requery the API every time\n",
    "    select_columns.to_csv(data_file_name, encoding='utf-8', index=False)"
   ]
  },
  {
   "cell_type": "code",
   "execution_count": 7,
   "id": "c293a2fa",
   "metadata": {},
   "outputs": [
    {
     "name": "stdout",
     "output_type": "stream",
     "text": [
      "['adult', 'genres', 'prod_comps', 'overview', 'tagline']\n"
     ]
    }
   ],
   "source": [
    "# Check for null values: return columns and sums of null values located in each\n",
    "def null_values_in_columns(data):\n",
    "    null_cols = data.isnull().any()\n",
    "    return [data.columns[i] for i in range(len(data.columns)) if null_cols[i] == True]\n",
    "\n",
    "cols_with_nulls = null_values_in_columns(select_columns)\n",
    "print(cols_with_nulls)"
   ]
  },
  {
   "cell_type": "code",
   "execution_count": 8,
   "id": "341ad046",
   "metadata": {},
   "outputs": [],
   "source": [
    "# mutative function to remove rows with nulls\n",
    "def get_non_null_rows(df, col_with_nulls):\n",
    "    df = df[df[col_with_nulls].isnull() == False]\n",
    "    return df"
   ]
  },
  {
   "cell_type": "code",
   "execution_count": 9,
   "id": "42483121",
   "metadata": {},
   "outputs": [],
   "source": [
    "for i in cols_with_nulls:\n",
    "    select_columns = get_non_null_rows(select_columns, i)"
   ]
  },
  {
   "cell_type": "code",
   "execution_count": 10,
   "id": "4983e966",
   "metadata": {
    "scrolled": true
   },
   "outputs": [
    {
     "name": "stdout",
     "output_type": "stream",
     "text": [
      "[]\n",
      "\n",
      "year              0\n",
      "imdb              0\n",
      "title             0\n",
      "clean_test        0\n",
      "binary            0\n",
      "budget_2013$      0\n",
      "domgross_2013$    0\n",
      "intgross_2013$    0\n",
      "adult             0\n",
      "genres            0\n",
      "prod_comps        0\n",
      "overview          0\n",
      "tagline           0\n",
      "dtype: int64\n",
      "\n",
      "      year       imdb                                    title clean_test  \\\n",
      "0     2013  tt1711425                            21 &amp; Over     notalk   \n",
      "1     2012  tt1343727                                 Dredd 3D         ok   \n",
      "2     2013  tt2024544                         12 Years a Slave     notalk   \n",
      "3     2013  tt1272878                                   2 Guns     notalk   \n",
      "4     2013  tt0453562                                       42        men   \n",
      "...    ...        ...                                      ...        ...   \n",
      "1771  1971  tt0067741                                    Shaft     notalk   \n",
      "1772  1971  tt0067800                               Straw Dogs     notalk   \n",
      "1773  1971  tt0067116                    The French Connection     notalk   \n",
      "1774  1971  tt0067992  Willy Wonka &amp; the Chocolate Factory        men   \n",
      "1775  1970  tt0065466           Beyond the Valley of the Dolls         ok   \n",
      "\n",
      "     binary  budget_2013$  domgross_2013$  intgross_2013$  adult  \\\n",
      "0      FAIL      13000000      25682380.0      42195766.0  False   \n",
      "1      PASS      45658735      13611086.0      41467257.0  False   \n",
      "2      FAIL      20000000      53107035.0     158607035.0  False   \n",
      "3      FAIL      61000000      75612460.0     132493015.0  False   \n",
      "4      FAIL      40000000      95020213.0      95020213.0  False   \n",
      "...     ...           ...             ...             ...    ...   \n",
      "1771   FAIL     305063707     404702718.0     616827003.0  False   \n",
      "1772   FAIL     143862856      59412143.0      64760273.0  False   \n",
      "1773   FAIL      12659931     236848653.0     236848653.0  False   \n",
      "1774   FAIL      17263543      23018057.0      23018057.0  False   \n",
      "1775   PASS       5997631      53978683.0      53978683.0  False   \n",
      "\n",
      "                                     genres  \\\n",
      "0                                    Comedy   \n",
      "1                    Action,Science Fiction   \n",
      "2                             Drama,History   \n",
      "3                       Action,Comedy,Crime   \n",
      "4                                     Drama   \n",
      "...                                     ...   \n",
      "1771                                  Drama   \n",
      "1772  Comedy,Science Fiction,Fantasy,Horror   \n",
      "1773                Horror,Mystery,Thriller   \n",
      "1774                         Western,Comedy   \n",
      "1775                    Crime,Drama,Mystery   \n",
      "\n",
      "                                             prod_comps  \\\n",
      "0     Mandeville Films,Relativity Media,SkyLand Ente...   \n",
      "1     Rena Film,DNA Films,Reliance Big Entertainment...   \n",
      "2     New Regency Pictures,Plan B Entertainment,Rive...   \n",
      "3     Universal Pictures,Marc Platt Productions,EFO ...   \n",
      "4              Warner Bros. Pictures,Legendary Pictures   \n",
      "...                                                 ...   \n",
      "1771                                      Fantasy Films   \n",
      "1772         Michael White Productions,20th Century Fox   \n",
      "1773  August Films,Film Funding Ltd. of Canada,Visio...   \n",
      "1774         Crossbow Productions,Warner Bros. Pictures   \n",
      "1775  Paramount,The Directors Company,The Coppola Co...   \n",
      "\n",
      "                                               overview  \\\n",
      "0     Brilliant student Jeff Chang has the most impo...   \n",
      "1     In the future, America is a dystopian wastelan...   \n",
      "2     In the pre-Civil War United States, Solomon No...   \n",
      "3     A DEA agent and an undercover Naval Intelligen...   \n",
      "4     The powerful story of Jackie Robinson, the leg...   \n",
      "...                                                 ...   \n",
      "1771  A petty criminal fakes insanity to serve his s...   \n",
      "1772  Sweethearts Brad and Janet, stuck with a flat ...   \n",
      "1773  During their Christmas break, a group of soror...   \n",
      "1774  A town—where everyone seems to be named Johnso...   \n",
      "1775  Surveillance expert Harry Caul is hired by a m...   \n",
      "\n",
      "                                                tagline  \n",
      "0                                              Finally.  \n",
      "1                                   Judgement is coming  \n",
      "2       The extraordinary true story of Solomon Northup  \n",
      "3                                       2 Guns, 1 Bank.  \n",
      "4                  The True Story of an American Legend  \n",
      "...                                                 ...  \n",
      "1771            If he's crazy, what does that make you?  \n",
      "1772                           A different set of jaws.  \n",
      "1773  If this picture doesn’t make your skin crawl.....  \n",
      "1774                   Never give a saga an even break!  \n",
      "1775  Harry Caul is an invader of privacy. The best ...  \n",
      "\n",
      "[1657 rows x 13 columns]\n"
     ]
    }
   ],
   "source": [
    "print(null_values_in_columns(select_columns))\n",
    "print()\n",
    "print(select_columns.isnull().sum())\n",
    "print()\n",
    "print(select_columns)"
   ]
  }
 ],
 "metadata": {
  "kernelspec": {
   "display_name": "Python 3 (ipykernel)",
   "language": "python",
   "name": "python3"
  },
  "language_info": {
   "codemirror_mode": {
    "name": "ipython",
    "version": 3
   },
   "file_extension": ".py",
   "mimetype": "text/x-python",
   "name": "python",
   "nbconvert_exporter": "python",
   "pygments_lexer": "ipython3",
   "version": "3.9.13"
  }
 },
 "nbformat": 4,
 "nbformat_minor": 5
}
