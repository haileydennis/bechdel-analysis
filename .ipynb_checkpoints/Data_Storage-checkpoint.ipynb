{
 "cells": [
  {
   "cell_type": "code",
   "execution_count": 1,
   "id": "59d97c2b",
   "metadata": {},
   "outputs": [],
   "source": [
    "import mysql.connector\n",
    "from mysql.connector import errorcode\n",
    "import sqlalchemy\n",
    "import pandas as pd\n",
    "import matplotlib.pyplot as plt"
   ]
  },
  {
   "cell_type": "markdown",
   "id": "f69e1f1d",
   "metadata": {},
   "source": [
    "### Database Setup\n",
    "This portion populates a MySQL server with values from a pandas DataFrame."
   ]
  },
  {
   "cell_type": "code",
   "execution_count": 2,
   "id": "819b8ed4",
   "metadata": {},
   "outputs": [],
   "source": [
    "# Run this the first time\n",
    "# !pip install pymysql"
   ]
  },
  {
   "cell_type": "code",
   "execution_count": 3,
   "id": "afea8ec3",
   "metadata": {},
   "outputs": [
    {
     "data": {
      "text/plain": [
       "<sqlalchemy.engine.base.Connection at 0x24fe7190ca0>"
      ]
     },
     "execution_count": 3,
     "metadata": {},
     "output_type": "execute_result"
    }
   ],
   "source": [
    "# Configure to your own user and password\n",
    "mysql_user = 'root'\n",
    "mysql_pw = ''\n",
    "mysql_host = 'localhost'\n",
    "\n",
    "engine = sqlalchemy.create_engine(f\"mysql+pymysql://{mysql_user}:{mysql_pw}@{mysql_host}\")\n",
    "conn = engine.connect()\n",
    "conn"
   ]
  },
  {
   "cell_type": "code",
   "execution_count": 4,
   "id": "448625c5",
   "metadata": {
    "scrolled": true
   },
   "outputs": [],
   "source": [
    "data = pd.read_csv(\"bechdel_analysis_data_cleaned.csv\", float_precision=None)"
   ]
  },
  {
   "cell_type": "code",
   "execution_count": 5,
   "id": "79b3514c",
   "metadata": {},
   "outputs": [],
   "source": [
    "def execute_dml(dml_string):\n",
    "    try:\n",
    "        conn.execute(dml_string)\n",
    "    except mysql.connector.Error as err:\n",
    "        print(\"Error:\", err)\n",
    "        \n",
    "def execute_query(query_string):\n",
    "    try:\n",
    "        res = conn.execute(query_string)\n",
    "        return res.fetchall()\n",
    "    except mysql.connector.Error as err:\n",
    "        print(\"Error:\", err)\n",
    "\n",
    "def create_db():\n",
    "    drop_existing_db = \"DROP DATABASE IF EXISTS bechdel;\"\n",
    "    create_bechdel = \"CREATE DATABASE bechdel;\"\n",
    "    use_bechdel = \"USE bechdel;\"\n",
    "    try:\n",
    "        execute_dml(drop_existing_db)\n",
    "        execute_dml(create_bechdel)\n",
    "        execute_dml(use_bechdel)\n",
    "    except mysql.connector.Error as err:\n",
    "        print(\"Error:\", err)\n",
    "        \n",
    "def populate_db():\n",
    "    general_data = data.drop(['genres', 'prod_comps'], axis=1)\n",
    "    general_data.to_sql('general', conn, if_exists='replace', dtype={\n",
    "        'year': sqlalchemy.types.INTEGER(),\n",
    "        'imdb': sqlalchemy.types.VARCHAR(length=12),\n",
    "        'title': sqlalchemy.types.VARCHAR(length=255),\n",
    "        'clean_test': sqlalchemy.types.VARCHAR(length=20),\n",
    "        'binary_passed': sqlalchemy.types.INTEGER(),\n",
    "        'budget_2013$': sqlalchemy.types.BIGINT(),\n",
    "        'domgross_2013$': sqlalchemy.types.BIGINT(),\n",
    "        'intgross_2013$': sqlalchemy.types.BIGINT(),\n",
    "        'overview': sqlalchemy.types.TEXT(),\n",
    "        'perc_women_producers': sqlalchemy.types.FLOAT(),\n",
    "        'perc_women_directors': sqlalchemy.types.FLOAT()\n",
    "    })\n",
    "    \n",
    "    # Convert into workable list type before using .explode()\n",
    "    genre_data = data[['imdb', 'genres']]\n",
    "    for i in range(genre_data.count()[0]):\n",
    "        genre_data.iloc[i].genres = genre_data.iloc[i].genres.strip('[]').replace('\\'', \"\").split(', ')\n",
    "    genre_data = genre_data.explode('genres')\n",
    "    genre_data.to_sql('genre', conn, if_exists='replace', dtype={\n",
    "        'imdb': sqlalchemy.types.VARCHAR(length=12),\n",
    "        'genre': sqlalchemy.types.VARCHAR(length=20)\n",
    "    })\n",
    "    \n",
    "    prod_data = data[['imdb', 'prod_comps']]\n",
    "    for i in range(prod_data.count()[0]):\n",
    "        prod_data.iloc[i].prod_comps = prod_data.iloc[i].prod_comps.strip('[]').replace('\\'', \"\").split(', ')\n",
    "    prod_data = prod_data.explode('prod_comps')\n",
    "    prod_data.to_sql('production_company', conn, if_exists='replace', dtype={\n",
    "        'imdb': sqlalchemy.types.VARCHAR(length=12),\n",
    "        'genre': sqlalchemy.types.VARCHAR(length=50)\n",
    "    })\n",
    "    execute_dml('ALTER TABLE general ADD PRIMARY KEY (imdb);')\n",
    "    execute_dml('ALTER TABLE genre ADD FOREIGN KEY (imdb) REFERENCES general(imdb);')\n",
    "    execute_dml('ALTER TABLE production_company ADD FOREIGN KEY (imdb) REFERENCES general(imdb);')"
   ]
  },
  {
   "cell_type": "code",
   "execution_count": 6,
   "id": "c63e67e0",
   "metadata": {
    "scrolled": true
   },
   "outputs": [
    {
     "name": "stdout",
     "output_type": "stream",
     "text": [
      "[('index', 'bigint', 'YES', 'MUL', None, ''), ('year', 'int', 'YES', '', None, ''), ('imdb', 'varchar(12)', 'NO', 'PRI', None, ''), ('title', 'varchar(255)', 'YES', '', None, ''), ('clean_test', 'varchar(20)', 'YES', '', None, ''), ('budget_2013$', 'bigint', 'YES', '', None, ''), ('binary_PASS', 'bigint', 'YES', '', None, ''), ('domgross_2013$', 'bigint', 'YES', '', None, ''), ('intgross_2013$', 'bigint', 'YES', '', None, ''), ('overview', 'text', 'YES', '', None, ''), ('perc_women_producers', 'float', 'YES', '', None, ''), ('perc_women_directors', 'float', 'YES', '', None, '')] \n",
      "\n",
      "[('index', 'bigint', 'YES', 'MUL', None, ''), ('imdb', 'varchar(12)', 'YES', 'MUL', None, ''), ('genres', 'text', 'YES', '', None, '')] \n",
      "\n",
      "[('index', 'bigint', 'YES', 'MUL', None, ''), ('imdb', 'varchar(12)', 'YES', 'MUL', None, ''), ('prod_comps', 'text', 'YES', '', None, '')]\n"
     ]
    }
   ],
   "source": [
    "create_db()\n",
    "populate_db()\n",
    "\n",
    "print(execute_query(\"DESC general\"), '\\n');\n",
    "print(execute_query(\"DESC genre\"), '\\n');\n",
    "print(execute_query(\"DESC production_company\"));"
   ]
  },
  {
   "cell_type": "markdown",
   "id": "84b027d0",
   "metadata": {},
   "source": [
    "### Querying the Database"
   ]
  },
  {
   "cell_type": "code",
   "execution_count": 7,
   "id": "2c4e32fc",
   "metadata": {},
   "outputs": [
    {
     "name": "stdout",
     "output_type": "stream",
     "text": [
      "Avg budget, domestic gross sales, and internationaly gross sales for movies that passed\n",
      "[('$47,608,174.33', '$81,642,833.43', '$172,596,412.08')]\n",
      "\n",
      "Avg budget, domestic gross sales, and internationaly gross sales for movies that failed\n",
      "('$63,947,833.76', '$109,159,360.22', '$226,065,892.16')\n"
     ]
    }
   ],
   "source": [
    "print('Avg budget, domestic gross sales, and internationaly gross sales for movies that passed')\n",
    "\n",
    "res = execute_query(\"\"\"\n",
    "    SELECT CONCAT('$', FORMAT(avg(budget_2013$), 2)),\n",
    "           CONCAT('$', FORMAT(avg(domgross_2013$), 2)),\n",
    "           CONCAT('$', FORMAT(avg(intgross_2013$), 2))\n",
    "        FROM general\n",
    "    WHERE binary_PASS = 1;\n",
    "\"\"\"\n",
    ")\n",
    "print(res)\n",
    "\n",
    "print('\\nAvg budget, domestic gross sales, and internationaly gross sales for movies that failed')\n",
    "res = execute_query(\"\"\"\n",
    "    SELECT CONCAT('$', FORMAT(avg(budget_2013$), 2)),\n",
    "           CONCAT('$', FORMAT(avg(domgross_2013$), 2)),\n",
    "           CONCAT('$', FORMAT(avg(intgross_2013$), 2))\n",
    "        FROM general\n",
    "    WHERE binary_PASS = 0;\n",
    "\"\"\"\n",
    ")\n",
    "print(res[0])"
   ]
  },
  {
   "cell_type": "code",
   "execution_count": 8,
   "id": "0f059d74",
   "metadata": {},
   "outputs": [
    {
     "name": "stdout",
     "output_type": "stream",
     "text": [
      "Passing percentages for most popular production companies in dataset\n",
      "\n"
     ]
    },
    {
     "data": {
      "text/html": [
       "<div>\n",
       "<style scoped>\n",
       "    .dataframe tbody tr th:only-of-type {\n",
       "        vertical-align: middle;\n",
       "    }\n",
       "\n",
       "    .dataframe tbody tr th {\n",
       "        vertical-align: top;\n",
       "    }\n",
       "\n",
       "    .dataframe thead th {\n",
       "        text-align: right;\n",
       "    }\n",
       "</style>\n",
       "<table border=\"1\" class=\"dataframe\">\n",
       "  <thead>\n",
       "    <tr style=\"text-align: right;\">\n",
       "      <th></th>\n",
       "      <th>movie_count</th>\n",
       "      <th>prod_comps</th>\n",
       "      <th>perc_passing</th>\n",
       "    </tr>\n",
       "  </thead>\n",
       "  <tbody>\n",
       "    <tr>\n",
       "      <th>0</th>\n",
       "      <td>170</td>\n",
       "      <td>Warner Bros. Pictures</td>\n",
       "      <td>0.3529</td>\n",
       "    </tr>\n",
       "    <tr>\n",
       "      <th>1</th>\n",
       "      <td>164</td>\n",
       "      <td>Universal Pictures</td>\n",
       "      <td>0.4024</td>\n",
       "    </tr>\n",
       "    <tr>\n",
       "      <th>2</th>\n",
       "      <td>153</td>\n",
       "      <td>Columbia Pictures</td>\n",
       "      <td>0.4444</td>\n",
       "    </tr>\n",
       "    <tr>\n",
       "      <th>3</th>\n",
       "      <td>121</td>\n",
       "      <td>20th Century Fox</td>\n",
       "      <td>0.3719</td>\n",
       "    </tr>\n",
       "    <tr>\n",
       "      <th>4</th>\n",
       "      <td>119</td>\n",
       "      <td>Paramount</td>\n",
       "      <td>0.3950</td>\n",
       "    </tr>\n",
       "    <tr>\n",
       "      <th>...</th>\n",
       "      <td>...</td>\n",
       "      <td>...</td>\n",
       "      <td>...</td>\n",
       "    </tr>\n",
       "    <tr>\n",
       "      <th>95</th>\n",
       "      <td>8</td>\n",
       "      <td>Pathé</td>\n",
       "      <td>0.5000</td>\n",
       "    </tr>\n",
       "    <tr>\n",
       "      <th>96</th>\n",
       "      <td>8</td>\n",
       "      <td>Malpaso Productions</td>\n",
       "      <td>0.5000</td>\n",
       "    </tr>\n",
       "    <tr>\n",
       "      <th>97</th>\n",
       "      <td>8</td>\n",
       "      <td>Mutual Film Company</td>\n",
       "      <td>0.2500</td>\n",
       "    </tr>\n",
       "    <tr>\n",
       "      <th>98</th>\n",
       "      <td>8</td>\n",
       "      <td>Orion Pictures</td>\n",
       "      <td>0.2500</td>\n",
       "    </tr>\n",
       "    <tr>\n",
       "      <th>99</th>\n",
       "      <td>8</td>\n",
       "      <td>Sony Pictures Animation</td>\n",
       "      <td>0.3750</td>\n",
       "    </tr>\n",
       "  </tbody>\n",
       "</table>\n",
       "<p>100 rows × 3 columns</p>\n",
       "</div>"
      ],
      "text/plain": [
       "    movie_count               prod_comps perc_passing\n",
       "0           170    Warner Bros. Pictures       0.3529\n",
       "1           164       Universal Pictures       0.4024\n",
       "2           153        Columbia Pictures       0.4444\n",
       "3           121         20th Century Fox       0.3719\n",
       "4           119                Paramount       0.3950\n",
       "..          ...                      ...          ...\n",
       "95            8                    Pathé       0.5000\n",
       "96            8      Malpaso Productions       0.5000\n",
       "97            8      Mutual Film Company       0.2500\n",
       "98            8           Orion Pictures       0.2500\n",
       "99            8  Sony Pictures Animation       0.3750\n",
       "\n",
       "[100 rows x 3 columns]"
      ]
     },
     "execution_count": 8,
     "metadata": {},
     "output_type": "execute_result"
    }
   ],
   "source": [
    "res = execute_query(\"\"\"\n",
    "    SELECT COUNT(*) AS movie_count,\n",
    "           prod_comps,\n",
    "           SUM(CASE WHEN g.binary_PASS = 1 THEN 1 ELSE 0 END) / COUNT(*) AS perc_passing\n",
    "    FROM production_company pc\n",
    "    JOIN general g ON pc.imdb = g.imdb\n",
    "    GROUP BY prod_comps\n",
    "    ORDER BY movie_count DESC\n",
    "    LIMIT 100;\n",
    "\"\"\")\n",
    "prod_passing = pd.DataFrame(res)\n",
    "print(\"Passing percentages for most popular production companies in dataset\\n\")\n",
    "prod_passing"
   ]
  },
  {
   "cell_type": "code",
   "execution_count": 9,
   "id": "aa5e8ef5",
   "metadata": {},
   "outputs": [
    {
     "data": {
      "text/plain": [
       "Text(0, 0.5, 'Percent of Movies Passing Bechdel Test')"
      ]
     },
     "execution_count": 9,
     "metadata": {},
     "output_type": "execute_result"
    },
    {
     "data": {
      "image/png": "[encoded data removed]",
      "text/plain": [
       "<Figure size 640x480 with 1 Axes>"
      ]
     },
     "metadata": {},
     "output_type": "display_data"
    }
   ],
   "source": [
    "plt.plot(prod_passing.movie_count, prod_passing.perc_passing)\n",
    "plt.title(\"Passing Percentage by Production Company Movie Count\")\n",
    "plt.xlabel(\"Movies Produced by Company\")\n",
    "plt.ylabel(\"Percent of Movies Passing Bechdel Test\")"
   ]
  },
  {
   "cell_type": "code",
   "execution_count": 10,
   "id": "c9f54c31",
   "metadata": {},
   "outputs": [
    {
     "name": "stdout",
     "output_type": "stream",
     "text": [
      "Passing percentages by genre\n",
      "\n"
     ]
    },
    {
     "data": {
      "text/html": [
       "<div>\n",
       "<style scoped>\n",
       "    .dataframe tbody tr th:only-of-type {\n",
       "        vertical-align: middle;\n",
       "    }\n",
       "\n",
       "    .dataframe tbody tr th {\n",
       "        vertical-align: top;\n",
       "    }\n",
       "\n",
       "    .dataframe thead th {\n",
       "        text-align: right;\n",
       "    }\n",
       "</style>\n",
       "<table border=\"1\" class=\"dataframe\">\n",
       "  <thead>\n",
       "    <tr style=\"text-align: right;\">\n",
       "      <th></th>\n",
       "      <th>movie_count</th>\n",
       "      <th>genres</th>\n",
       "      <th>perc_passing</th>\n",
       "    </tr>\n",
       "  </thead>\n",
       "  <tbody>\n",
       "    <tr>\n",
       "      <th>5</th>\n",
       "      <td>319</td>\n",
       "      <td>Romance</td>\n",
       "      <td>0.5987</td>\n",
       "    </tr>\n",
       "    <tr>\n",
       "      <th>10</th>\n",
       "      <td>194</td>\n",
       "      <td>Horror</td>\n",
       "      <td>0.5979</td>\n",
       "    </tr>\n",
       "    <tr>\n",
       "      <th>15</th>\n",
       "      <td>50</td>\n",
       "      <td>Music</td>\n",
       "      <td>0.5800</td>\n",
       "    </tr>\n",
       "    <tr>\n",
       "      <th>1</th>\n",
       "      <td>636</td>\n",
       "      <td>Comedy</td>\n",
       "      <td>0.4843</td>\n",
       "    </tr>\n",
       "    <tr>\n",
       "      <th>0</th>\n",
       "      <td>762</td>\n",
       "      <td>Drama</td>\n",
       "      <td>0.4816</td>\n",
       "    </tr>\n",
       "    <tr>\n",
       "      <th>13</th>\n",
       "      <td>69</td>\n",
       "      <td>History</td>\n",
       "      <td>0.4783</td>\n",
       "    </tr>\n",
       "    <tr>\n",
       "      <th>9</th>\n",
       "      <td>198</td>\n",
       "      <td>Family</td>\n",
       "      <td>0.4747</td>\n",
       "    </tr>\n",
       "    <tr>\n",
       "      <th>11</th>\n",
       "      <td>152</td>\n",
       "      <td>Mystery</td>\n",
       "      <td>0.4737</td>\n",
       "    </tr>\n",
       "    <tr>\n",
       "      <th>8</th>\n",
       "      <td>232</td>\n",
       "      <td>Fantasy</td>\n",
       "      <td>0.4440</td>\n",
       "    </tr>\n",
       "    <tr>\n",
       "      <th>3</th>\n",
       "      <td>460</td>\n",
       "      <td>Thriller</td>\n",
       "      <td>0.3761</td>\n",
       "    </tr>\n",
       "    <tr>\n",
       "      <th>12</th>\n",
       "      <td>116</td>\n",
       "      <td>Animation</td>\n",
       "      <td>0.3534</td>\n",
       "    </tr>\n",
       "    <tr>\n",
       "      <th>6</th>\n",
       "      <td>290</td>\n",
       "      <td>Science Fiction</td>\n",
       "      <td>0.3483</td>\n",
       "    </tr>\n",
       "    <tr>\n",
       "      <th>4</th>\n",
       "      <td>384</td>\n",
       "      <td>Adventure</td>\n",
       "      <td>0.3203</td>\n",
       "    </tr>\n",
       "    <tr>\n",
       "      <th>7</th>\n",
       "      <td>265</td>\n",
       "      <td>Crime</td>\n",
       "      <td>0.3170</td>\n",
       "    </tr>\n",
       "    <tr>\n",
       "      <th>2</th>\n",
       "      <td>489</td>\n",
       "      <td>Action</td>\n",
       "      <td>0.2761</td>\n",
       "    </tr>\n",
       "    <tr>\n",
       "      <th>17</th>\n",
       "      <td>4</td>\n",
       "      <td>Documentary</td>\n",
       "      <td>0.2500</td>\n",
       "    </tr>\n",
       "    <tr>\n",
       "      <th>14</th>\n",
       "      <td>51</td>\n",
       "      <td>War</td>\n",
       "      <td>0.2353</td>\n",
       "    </tr>\n",
       "    <tr>\n",
       "      <th>16</th>\n",
       "      <td>25</td>\n",
       "      <td>Western</td>\n",
       "      <td>0.1600</td>\n",
       "    </tr>\n",
       "  </tbody>\n",
       "</table>\n",
       "</div>"
      ],
      "text/plain": [
       "    movie_count           genres perc_passing\n",
       "5           319          Romance       0.5987\n",
       "10          194           Horror       0.5979\n",
       "15           50            Music       0.5800\n",
       "1           636           Comedy       0.4843\n",
       "0           762            Drama       0.4816\n",
       "13           69          History       0.4783\n",
       "9           198           Family       0.4747\n",
       "11          152          Mystery       0.4737\n",
       "8           232          Fantasy       0.4440\n",
       "3           460         Thriller       0.3761\n",
       "12          116        Animation       0.3534\n",
       "6           290  Science Fiction       0.3483\n",
       "4           384        Adventure       0.3203\n",
       "7           265            Crime       0.3170\n",
       "2           489           Action       0.2761\n",
       "17            4      Documentary       0.2500\n",
       "14           51              War       0.2353\n",
       "16           25          Western       0.1600"
      ]
     },
     "execution_count": 10,
     "metadata": {},
     "output_type": "execute_result"
    }
   ],
   "source": [
    "res = execute_query(\"\"\"\n",
    "    SELECT COUNT(*) AS movie_count,\n",
    "           genres,\n",
    "           SUM(CASE WHEN g.binary_PASS = 1 THEN 1 ELSE 0 END) / COUNT(*) AS perc_passing\n",
    "    FROM genre gn\n",
    "    JOIN general g ON gn.imdb = g.imdb\n",
    "    GROUP BY genres\n",
    "    ORDER BY movie_count DESC;\n",
    "\"\"\")\n",
    "genre_passing = pd.DataFrame(res)\n",
    "print(\"Passing percentages by genre\\n\")\n",
    "genre_passing.sort_values(by=['perc_passing'], ascending=False)"
   ]
  }
 ],
 "metadata": {
  "kernelspec": {
   "display_name": "Python 3 (ipykernel)",
   "language": "python",
   "name": "python3"
  },
  "language_info": {
   "codemirror_mode": {
    "name": "ipython",
    "version": 3
   },
   "file_extension": ".py",
   "mimetype": "text/x-python",
   "name": "python",
   "nbconvert_exporter": "python",
   "pygments_lexer": "ipython3",
   "version": "3.9.13"
  }
 },
 "nbformat": 4,
 "nbformat_minor": 5
}
