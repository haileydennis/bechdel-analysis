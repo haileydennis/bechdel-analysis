{
 "cells": [
  {
   "cell_type": "markdown",
   "id": "205c5cc3",
   "metadata": {},
   "source": [
    "# Data Preprocessing"
   ]
  },
  {
   "cell_type": "code",
   "execution_count": 10,
   "id": "3137fc4b",
   "metadata": {
    "scrolled": true
   },
   "outputs": [
    {
     "name": "stdout",
     "output_type": "stream",
     "text": [
      "      year       imdb                                    title  \\\n",
      "0     2013  tt1711425                            21 &amp; Over   \n",
      "1     2012  tt1343727                                 Dredd 3D   \n",
      "2     2013  tt2024544                         12 Years a Slave   \n",
      "3     2013  tt1272878                                   2 Guns   \n",
      "4     2013  tt0453562                                       42   \n",
      "...    ...        ...                                      ...   \n",
      "1789  1971  tt0067741                                    Shaft   \n",
      "1790  1971  tt0067800                               Straw Dogs   \n",
      "1791  1971  tt0067116                    The French Connection   \n",
      "1792  1971  tt0067992  Willy Wonka &amp; the Chocolate Factory   \n",
      "1793  1970  tt0065466           Beyond the Valley of the Dolls   \n",
      "\n",
      "                 test clean_test binary    budget    domgross     intgross  \\\n",
      "0              notalk     notalk   FAIL  13000000  25682380.0   42195766.0   \n",
      "1         ok-disagree         ok   PASS  45000000  13414714.0   40868994.0   \n",
      "2     notalk-disagree     notalk   FAIL  20000000  53107035.0  158607035.0   \n",
      "3              notalk     notalk   FAIL  61000000  75612460.0  132493015.0   \n",
      "4                 men        men   FAIL  40000000  95020213.0   95020213.0   \n",
      "...               ...        ...    ...       ...         ...          ...   \n",
      "1789           notalk     notalk   FAIL  53012938  70327868.0  107190108.0   \n",
      "1790           notalk     notalk   FAIL  25000000  10324441.0   11253821.0   \n",
      "1791           notalk     notalk   FAIL   2200000  41158757.0   41158757.0   \n",
      "1792     men-disagree        men   FAIL   3000000   4000000.0    4000000.0   \n",
      "1793               ok         ok   PASS   1000000   9000000.0    9000000.0   \n",
      "\n",
      "          code  budget_2013$  domgross_2013$  intgross_2013$  period code  \\\n",
      "0     2013FAIL      13000000      25682380.0      42195766.0          1.0   \n",
      "1     2012PASS      45658735      13611086.0      41467257.0          1.0   \n",
      "2     2013FAIL      20000000      53107035.0     158607035.0          1.0   \n",
      "3     2013FAIL      61000000      75612460.0     132493015.0          1.0   \n",
      "4     2013FAIL      40000000      95020213.0      95020213.0          1.0   \n",
      "...        ...           ...             ...             ...          ...   \n",
      "1789  1971FAIL     305063707     404702718.0     616827003.0          NaN   \n",
      "1790  1971FAIL     143862856      59412143.0      64760273.0          NaN   \n",
      "1791  1971FAIL      12659931     236848653.0     236848653.0          NaN   \n",
      "1792  1971FAIL      17263543      23018057.0      23018057.0          NaN   \n",
      "1793  1970PASS       5997631      53978683.0      53978683.0          NaN   \n",
      "\n",
      "      decade code  \n",
      "0             1.0  \n",
      "1             1.0  \n",
      "2             1.0  \n",
      "3             1.0  \n",
      "4             1.0  \n",
      "...           ...  \n",
      "1789          NaN  \n",
      "1790          NaN  \n",
      "1791          NaN  \n",
      "1792          NaN  \n",
      "1793          NaN  \n",
      "\n",
      "[1794 rows x 15 columns]\n"
     ]
    }
   ],
   "source": [
    "import pandas as pd\n",
    "import numpy as np\n",
    "\n",
    "data = pd.read_csv(\"https://raw.githubusercontent.com/fivethirtyeight/data/master/bechdel/movies.csv\")\n",
    "data.head()"
   ]
  },
  {
   "cell_type": "code",
   "execution_count": 3,
   "id": "6d791344",
   "metadata": {},
   "outputs": [],
   "source": [
    "select_columns = data[['year', 'imdb', 'title', 'clean_test', 'binary', 'budget_2013$', 'domgross_2013$', 'intgross_2013$']]"
   ]
  },
  {
   "cell_type": "code",
   "execution_count": 4,
   "id": "1c5b257f",
   "metadata": {
    "scrolled": true
   },
   "outputs": [
    {
     "data": {
      "text/html": [
       "<div>\n",
       "<style scoped>\n",
       "    .dataframe tbody tr th:only-of-type {\n",
       "        vertical-align: middle;\n",
       "    }\n",
       "\n",
       "    .dataframe tbody tr th {\n",
       "        vertical-align: top;\n",
       "    }\n",
       "\n",
       "    .dataframe thead th {\n",
       "        text-align: right;\n",
       "    }\n",
       "</style>\n",
       "<table border=\"1\" class=\"dataframe\">\n",
       "  <thead>\n",
       "    <tr style=\"text-align: right;\">\n",
       "      <th></th>\n",
       "      <th>year</th>\n",
       "      <th>imdb</th>\n",
       "      <th>title</th>\n",
       "      <th>clean_test</th>\n",
       "      <th>binary</th>\n",
       "      <th>budget_2013$</th>\n",
       "      <th>domgross_2013$</th>\n",
       "      <th>intgross_2013$</th>\n",
       "    </tr>\n",
       "  </thead>\n",
       "  <tbody>\n",
       "    <tr>\n",
       "      <th>0</th>\n",
       "      <td>2013</td>\n",
       "      <td>tt1711425</td>\n",
       "      <td>21 &amp;amp; Over</td>\n",
       "      <td>notalk</td>\n",
       "      <td>FAIL</td>\n",
       "      <td>13000000</td>\n",
       "      <td>25682380.0</td>\n",
       "      <td>42195766.0</td>\n",
       "    </tr>\n",
       "    <tr>\n",
       "      <th>1</th>\n",
       "      <td>2012</td>\n",
       "      <td>tt1343727</td>\n",
       "      <td>Dredd 3D</td>\n",
       "      <td>ok</td>\n",
       "      <td>PASS</td>\n",
       "      <td>45658735</td>\n",
       "      <td>13611086.0</td>\n",
       "      <td>41467257.0</td>\n",
       "    </tr>\n",
       "    <tr>\n",
       "      <th>2</th>\n",
       "      <td>2013</td>\n",
       "      <td>tt2024544</td>\n",
       "      <td>12 Years a Slave</td>\n",
       "      <td>notalk</td>\n",
       "      <td>FAIL</td>\n",
       "      <td>20000000</td>\n",
       "      <td>53107035.0</td>\n",
       "      <td>158607035.0</td>\n",
       "    </tr>\n",
       "    <tr>\n",
       "      <th>3</th>\n",
       "      <td>2013</td>\n",
       "      <td>tt1272878</td>\n",
       "      <td>2 Guns</td>\n",
       "      <td>notalk</td>\n",
       "      <td>FAIL</td>\n",
       "      <td>61000000</td>\n",
       "      <td>75612460.0</td>\n",
       "      <td>132493015.0</td>\n",
       "    </tr>\n",
       "    <tr>\n",
       "      <th>4</th>\n",
       "      <td>2013</td>\n",
       "      <td>tt0453562</td>\n",
       "      <td>42</td>\n",
       "      <td>men</td>\n",
       "      <td>FAIL</td>\n",
       "      <td>40000000</td>\n",
       "      <td>95020213.0</td>\n",
       "      <td>95020213.0</td>\n",
       "    </tr>\n",
       "  </tbody>\n",
       "</table>\n",
       "</div>"
      ],
      "text/plain": [
       "   year       imdb             title clean_test binary  budget_2013$  \\\n",
       "0  2013  tt1711425     21 &amp; Over     notalk   FAIL      13000000   \n",
       "1  2012  tt1343727          Dredd 3D         ok   PASS      45658735   \n",
       "2  2013  tt2024544  12 Years a Slave     notalk   FAIL      20000000   \n",
       "3  2013  tt1272878            2 Guns     notalk   FAIL      61000000   \n",
       "4  2013  tt0453562                42        men   FAIL      40000000   \n",
       "\n",
       "   domgross_2013$  intgross_2013$  \n",
       "0      25682380.0      42195766.0  \n",
       "1      13611086.0      41467257.0  \n",
       "2      53107035.0     158607035.0  \n",
       "3      75612460.0     132493015.0  \n",
       "4      95020213.0      95020213.0  "
      ]
     },
     "execution_count": 4,
     "metadata": {},
     "output_type": "execute_result"
    }
   ],
   "source": [
    "select_columns.head()"
   ]
  },
  {
   "cell_type": "code",
   "execution_count": 5,
   "id": "56da666a",
   "metadata": {
    "scrolled": true
   },
   "outputs": [
    {
     "data": {
      "text/html": [
       "<div>\n",
       "<style scoped>\n",
       "    .dataframe tbody tr th:only-of-type {\n",
       "        vertical-align: middle;\n",
       "    }\n",
       "\n",
       "    .dataframe tbody tr th {\n",
       "        vertical-align: top;\n",
       "    }\n",
       "\n",
       "    .dataframe thead th {\n",
       "        text-align: right;\n",
       "    }\n",
       "</style>\n",
       "<table border=\"1\" class=\"dataframe\">\n",
       "  <thead>\n",
       "    <tr style=\"text-align: right;\">\n",
       "      <th></th>\n",
       "      <th>year</th>\n",
       "      <th>budget_2013$</th>\n",
       "      <th>domgross_2013$</th>\n",
       "      <th>intgross_2013$</th>\n",
       "    </tr>\n",
       "  </thead>\n",
       "  <tbody>\n",
       "    <tr>\n",
       "      <th>year</th>\n",
       "      <td>1.000000</td>\n",
       "      <td>0.077695</td>\n",
       "      <td>-0.286437</td>\n",
       "      <td>-0.135760</td>\n",
       "    </tr>\n",
       "    <tr>\n",
       "      <th>budget_2013$</th>\n",
       "      <td>0.077695</td>\n",
       "      <td>1.000000</td>\n",
       "      <td>0.461261</td>\n",
       "      <td>0.594019</td>\n",
       "    </tr>\n",
       "    <tr>\n",
       "      <th>domgross_2013$</th>\n",
       "      <td>-0.286437</td>\n",
       "      <td>0.461261</td>\n",
       "      <td>1.000000</td>\n",
       "      <td>0.927652</td>\n",
       "    </tr>\n",
       "    <tr>\n",
       "      <th>intgross_2013$</th>\n",
       "      <td>-0.135760</td>\n",
       "      <td>0.594019</td>\n",
       "      <td>0.927652</td>\n",
       "      <td>1.000000</td>\n",
       "    </tr>\n",
       "  </tbody>\n",
       "</table>\n",
       "</div>"
      ],
      "text/plain": [
       "                    year  budget_2013$  domgross_2013$  intgross_2013$\n",
       "year            1.000000      0.077695       -0.286437       -0.135760\n",
       "budget_2013$    0.077695      1.000000        0.461261        0.594019\n",
       "domgross_2013$ -0.286437      0.461261        1.000000        0.927652\n",
       "intgross_2013$ -0.135760      0.594019        0.927652        1.000000"
      ]
     },
     "execution_count": 5,
     "metadata": {},
     "output_type": "execute_result"
    }
   ],
   "source": [
    "select_columns.corr()"
   ]
  },
  {
   "cell_type": "code",
   "execution_count": 6,
   "id": "ea6ceac5",
   "metadata": {
    "scrolled": false
   },
   "outputs": [
    {
     "data": {
      "text/html": [
       "<div>\n",
       "<style scoped>\n",
       "    .dataframe tbody tr th:only-of-type {\n",
       "        vertical-align: middle;\n",
       "    }\n",
       "\n",
       "    .dataframe tbody tr th {\n",
       "        vertical-align: top;\n",
       "    }\n",
       "\n",
       "    .dataframe thead th {\n",
       "        text-align: right;\n",
       "    }\n",
       "</style>\n",
       "<table border=\"1\" class=\"dataframe\">\n",
       "  <thead>\n",
       "    <tr style=\"text-align: right;\">\n",
       "      <th></th>\n",
       "      <th>year</th>\n",
       "      <th>budget_2013$</th>\n",
       "      <th>domgross_2013$</th>\n",
       "      <th>intgross_2013$</th>\n",
       "    </tr>\n",
       "  </thead>\n",
       "  <tbody>\n",
       "    <tr>\n",
       "      <th>year</th>\n",
       "      <td>8.063557e+01</td>\n",
       "      <td>3.831578e+07</td>\n",
       "      <td>-3.232021e+08</td>\n",
       "      <td>-3.443421e+08</td>\n",
       "    </tr>\n",
       "    <tr>\n",
       "      <th>budget_2013$</th>\n",
       "      <td>3.831578e+07</td>\n",
       "      <td>3.016057e+15</td>\n",
       "      <td>3.196803e+15</td>\n",
       "      <td>9.258982e+15</td>\n",
       "    </tr>\n",
       "    <tr>\n",
       "      <th>domgross_2013$</th>\n",
       "      <td>-3.232021e+08</td>\n",
       "      <td>3.196803e+15</td>\n",
       "      <td>1.586727e+16</td>\n",
       "      <td>3.316561e+16</td>\n",
       "    </tr>\n",
       "    <tr>\n",
       "      <th>intgross_2013$</th>\n",
       "      <td>-3.443421e+08</td>\n",
       "      <td>9.258982e+15</td>\n",
       "      <td>3.316561e+16</td>\n",
       "      <td>8.037676e+16</td>\n",
       "    </tr>\n",
       "  </tbody>\n",
       "</table>\n",
       "</div>"
      ],
      "text/plain": [
       "                        year  budget_2013$  domgross_2013$  intgross_2013$\n",
       "year            8.063557e+01  3.831578e+07   -3.232021e+08   -3.443421e+08\n",
       "budget_2013$    3.831578e+07  3.016057e+15    3.196803e+15    9.258982e+15\n",
       "domgross_2013$ -3.232021e+08  3.196803e+15    1.586727e+16    3.316561e+16\n",
       "intgross_2013$ -3.443421e+08  9.258982e+15    3.316561e+16    8.037676e+16"
      ]
     },
     "execution_count": 6,
     "metadata": {},
     "output_type": "execute_result"
    }
   ],
   "source": [
    "select_columns.cov()"
   ]
  },
  {
   "cell_type": "code",
   "execution_count": 7,
   "id": "54689153",
   "metadata": {},
   "outputs": [],
   "source": [
    "# Check for duplicates: True if duplicates were found, False if all data is unique\n",
    "def check_duplicates(data):\n",
    "    if len(select_columns['imdb']) != len(select_columns['imdb'].unique()):\n",
    "        return True\n",
    "    else:\n",
    "        return False"
   ]
  },
  {
   "cell_type": "code",
   "execution_count": 21,
   "id": "7244a942",
   "metadata": {
    "scrolled": true
   },
   "outputs": [
    {
     "name": "stdout",
     "output_type": "stream",
     "text": [
      "year              0\n",
      "imdb              0\n",
      "title             0\n",
      "clean_test        0\n",
      "binary            0\n",
      "budget_2013$      0\n",
      "domgross_2013$    0\n",
      "intgross_2013$    0\n",
      "dtype: int64\n"
     ]
    }
   ],
   "source": [
    "# Check for null values: return columns and sums of null values located in each\n",
    "def null_values_in_columns(data):\n",
    "    return data.isnull().sum()\n",
    "print(null_values_in_columns(select_columns))"
   ]
  },
  {
   "cell_type": "code",
   "execution_count": 22,
   "id": "4b57cc82",
   "metadata": {},
   "outputs": [],
   "source": [
    "select_columns = select_columns[select_columns['domgross_2013$'].isnull() == False][select_columns['intgross_2013$'].isnull() == False]"
   ]
  },
  {
   "cell_type": "code",
   "execution_count": 20,
   "id": "f9efe67f",
   "metadata": {},
   "outputs": [
    {
     "data": {
      "text/plain": [
       "year              0\n",
       "imdb              0\n",
       "title             0\n",
       "clean_test        0\n",
       "binary            0\n",
       "budget_2013$      0\n",
       "domgross_2013$    0\n",
       "intgross_2013$    0\n",
       "dtype: int64"
      ]
     },
     "execution_count": 20,
     "metadata": {},
     "output_type": "execute_result"
    }
   ],
   "source": [
    "print(null_values_in_columns(select_columns))"
   ]
  },
  {
   "cell_type": "code",
   "execution_count": null,
   "id": "980bd80e",
   "metadata": {},
   "outputs": [],
   "source": [
    "#Gather TMDB data"
   ]
  }
 ],
 "metadata": {
  "kernelspec": {
   "display_name": "Python 3 (ipykernel)",
   "language": "python",
   "name": "python3"
  },
  "language_info": {
   "codemirror_mode": {
    "name": "ipython",
    "version": 3
   },
   "file_extension": ".py",
   "mimetype": "text/x-python",
   "name": "python",
   "nbconvert_exporter": "python",
   "pygments_lexer": "ipython3",
   "version": "3.9.13"
  }
 },
 "nbformat": 4,
 "nbformat_minor": 5
}
