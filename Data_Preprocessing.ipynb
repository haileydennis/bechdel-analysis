{
 "cells": [
  {
   "cell_type": "markdown",
   "id": "205c5cc3",
   "metadata": {},
   "source": [
    "# Data Preprocessing"
   ]
  },
  {
   "cell_type": "code",
   "execution_count": 1,
   "id": "6223616d",
   "metadata": {
    "scrolled": true
   },
   "outputs": [],
   "source": [
    "import pandas as pd\n",
    "import numpy as np\n",
    "import requests\n",
    "import os"
   ]
  },
  {
   "cell_type": "code",
   "execution_count": 2,
   "id": "e1ab4fa2",
   "metadata": {},
   "outputs": [],
   "source": [
    "# Get five-thirty-eight bechdel data\n",
    "def get_five_thirty_eight_bechdel_data():\n",
    "    data = pd.read_csv(\"https://raw.githubusercontent.com/fivethirtyeight/data/master/bechdel/movies.csv\")\n",
    "    select_columns = data[['year', 'imdb', 'title', 'clean_test', 'binary', 'budget_2013$', 'domgross_2013$', 'intgross_2013$']]\n",
    "    return select_columns"
   ]
  },
  {
   "cell_type": "code",
   "execution_count": 3,
   "id": "980556c4",
   "metadata": {
    "scrolled": true
   },
   "outputs": [],
   "source": [
    "# Print correlation and covariance matrices\n",
    "def print_corr_cov_matrices(data):\n",
    "    print(data.corr())\n",
    "    print(data.cov())"
   ]
  },
  {
   "cell_type": "code",
   "execution_count": 4,
   "id": "31f9c43e",
   "metadata": {},
   "outputs": [],
   "source": [
    "# Check for duplicates: True if duplicates were found, False if all data is unique\n",
    "def check_duplicates(data):\n",
    "    if len(select_columns['imdb']) != len(select_columns['imdb'].unique()):\n",
    "        return True\n",
    "    else:\n",
    "        return False"
   ]
  },
  {
   "cell_type": "code",
   "execution_count": 5,
   "id": "16fa93bc",
   "metadata": {},
   "outputs": [],
   "source": [
    "# Add column to dataframe\n",
    "def add_column(df, col_name, new_list):\n",
    "    df.insert(len(df.columns), str(col_name), new_list)\n",
    "    return df"
   ]
  },
  {
   "cell_type": "code",
   "execution_count": 6,
   "id": "36e6c9dd",
   "metadata": {},
   "outputs": [],
   "source": [
    "# Returns percentage of women in given crew role (e.g. Producer, Director\n",
    "def get_perc_women_role(crew_response, job_type):\n",
    "    female_count = 0\n",
    "    job_count = 0\n",
    "    for person in crew_response['crew']:\n",
    "        if person['job'] == job_type:\n",
    "            job_count += 1\n",
    "            if person['gender'] == 1:\n",
    "                female_count += 1\n",
    "    if job_count == 0:\n",
    "        return None\n",
    "    else:\n",
    "        return female_count / job_count"
   ]
  },
  {
   "cell_type": "code",
   "execution_count": 7,
   "id": "b1ea53f2",
   "metadata": {
    "scrolled": true
   },
   "outputs": [
    {
     "name": "stdout",
     "output_type": "stream",
     "text": [
      "Unexpected err=KeyError('adult'), type(err)=<class 'KeyError'>\n",
      "Unexpected err=KeyError('adult'), type(err)=<class 'KeyError'>\n",
      "Unexpected err=KeyError('adult'), type(err)=<class 'KeyError'>\n",
      "Unexpected err=KeyError('adult'), type(err)=<class 'KeyError'>\n",
      "Unexpected err=KeyError('adult'), type(err)=<class 'KeyError'>\n",
      "Unexpected err=KeyError('adult'), type(err)=<class 'KeyError'>\n"
     ]
    }
   ],
   "source": [
    "# Populate data\n",
    "data_file_name = \"bechdel_analysis_data.csv\"\n",
    "data_file_path = \"./bechdel_analysis_data.csv\"\n",
    "\n",
    "# See if data has already been populated in the current directory\n",
    "if os.path.isfile(data_file_path) == 'test':\n",
    "    select_columns = pd.read_csv(data_file_path)\n",
    "else:\n",
    "    select_columns = get_five_thirty_eight_bechdel_data()\n",
    "    \n",
    "#Gather TMDB data - setup\n",
    "tmdb_api_key = \"55d7071c3daf17bcf8cc0f4a6f688a24\"\n",
    "movie_ids = select_columns['imdb']\n",
    "\n",
    "\n",
    "# Initialize empty arrays\n",
    "adult = [None] * len(movie_ids)\n",
    "genres = [None] * len(movie_ids)\n",
    "prod_comps = [None] * len(movie_ids)\n",
    "overview = [None] * len(movie_ids)\n",
    "tagline = [None] * len(movie_ids)\n",
    "perc_women_producers = [None] * len(movie_ids)\n",
    "perc_women_directors = [None] * len(movie_ids)\n",
    "\n",
    "# Query the API for data\n",
    "for i in range(len(movie_ids)):\n",
    "    try:\n",
    "        response = requests.get(\"https://api.themoviedb.org/3/movie/\" + str(movie_ids[i]) + \"?api_key=\" + str(tmdb_api_key) + \"&language=en-US\").json()\n",
    "        crew_response = requests.get(\"https://api.themoviedb.org/3/movie/\" + str(movie_ids[i]) + \"/credits?api_key=\" + str(tmdb_api_key) + \"&language=en-US\").json()\n",
    "        adult[i] = response['adult']\n",
    "        genres[i] = ','.join([ genre['name'] for genre in response['genres']])\n",
    "        prod_comps[i] = ','.join([company['name'] for company in response['production_companies']])\n",
    "        overview[i] = response['overview']\n",
    "        tagline[i] = response['tagline']\n",
    "        perc_women_producers[i] = get_perc_women_role(crew_response, 'Producer')\n",
    "        perc_women_directors[i] = get_perc_women_role(crew_response, 'Director')\n",
    "\n",
    "    except Exception as err:\n",
    "        print(f\"Unexpected {err=}, {type(err)=}\")\n",
    "        continue\n",
    "\n",
    "# Add desired columns to select_columns\n",
    "desired_cols = {'adult': adult, 'genres': genres, 'prod_comps': prod_comps, 'overview': overview, 'tagline': tagline,\n",
    "                'perc_women_producers': perc_women_producers, \n",
    "                'perc_women_directors': perc_women_directors}\n",
    "for key in desired_cols.keys():\n",
    "    select_columns = add_column(select_columns, key, desired_cols[key])\n",
    "\n",
    "#Save to csv so we don't have to requery the API every time\n",
    "select_columns.to_csv(data_file_name, encoding='utf-8', index=False)"
   ]
  },
  {
   "cell_type": "code",
   "execution_count": 8,
   "id": "c293a2fa",
   "metadata": {},
   "outputs": [
    {
     "name": "stdout",
     "output_type": "stream",
     "text": [
      "['domgross_2013$', 'intgross_2013$', 'adult', 'genres', 'prod_comps', 'overview', 'tagline', 'perc_women_producers', 'perc_women_directors']\n"
     ]
    }
   ],
   "source": [
    "# Check for null values: return columns and sums of null values located in each\n",
    "def null_values_in_columns(data):\n",
    "    null_cols = data.isnull().any()\n",
    "    return [data.columns[i] for i in range(len(data.columns)) if null_cols[i] == True]\n",
    "\n",
    "cols_with_nulls = null_values_in_columns(select_columns)\n",
    "print(cols_with_nulls)"
   ]
  },
  {
   "cell_type": "code",
   "execution_count": 9,
   "id": "341ad046",
   "metadata": {},
   "outputs": [],
   "source": [
    "# mutative function to remove rows with nulls\n",
    "def get_non_null_rows(df, col_with_nulls):\n",
    "    df = df[df[col_with_nulls].isnull() == False]\n",
    "    return df"
   ]
  },
  {
   "cell_type": "code",
   "execution_count": 10,
   "id": "42483121",
   "metadata": {},
   "outputs": [],
   "source": [
    "for i in cols_with_nulls:\n",
    "    select_columns = get_non_null_rows(select_columns, i)"
   ]
  },
  {
   "cell_type": "code",
   "execution_count": 11,
   "id": "4983e966",
   "metadata": {
    "scrolled": true
   },
   "outputs": [
    {
     "name": "stdout",
     "output_type": "stream",
     "text": [
      "[]\n",
      "\n",
      "year                    0\n",
      "imdb                    0\n",
      "title                   0\n",
      "clean_test              0\n",
      "binary                  0\n",
      "budget_2013$            0\n",
      "domgross_2013$          0\n",
      "intgross_2013$          0\n",
      "adult                   0\n",
      "genres                  0\n",
      "prod_comps              0\n",
      "overview                0\n",
      "tagline                 0\n",
      "perc_women_producers    0\n",
      "perc_women_directors    0\n",
      "dtype: int64\n",
      "\n",
      "      year       imdb                                    title clean_test  \\\n",
      "0     2013  tt1711425                            21 &amp; Over     notalk   \n",
      "1     2012  tt1343727                                 Dredd 3D         ok   \n",
      "2     2013  tt2024544                         12 Years a Slave     notalk   \n",
      "3     2013  tt1272878                                   2 Guns     notalk   \n",
      "4     2013  tt0453562                                       42        men   \n",
      "...    ...        ...                                      ...        ...   \n",
      "1789  1971  tt0067741                                    Shaft     notalk   \n",
      "1790  1971  tt0067800                               Straw Dogs     notalk   \n",
      "1791  1971  tt0067116                    The French Connection     notalk   \n",
      "1792  1971  tt0067992  Willy Wonka &amp; the Chocolate Factory        men   \n",
      "1793  1970  tt0065466           Beyond the Valley of the Dolls         ok   \n",
      "\n",
      "     binary  budget_2013$  domgross_2013$  intgross_2013$  adult  \\\n",
      "0      FAIL      13000000      25682380.0      42195766.0  False   \n",
      "1      PASS      45658735      13611086.0      41467257.0  False   \n",
      "2      FAIL      20000000      53107035.0     158607035.0  False   \n",
      "3      FAIL      61000000      75612460.0     132493015.0  False   \n",
      "4      FAIL      40000000      95020213.0      95020213.0  False   \n",
      "...     ...           ...             ...             ...    ...   \n",
      "1789   FAIL     305063707     404702718.0     616827003.0  False   \n",
      "1790   FAIL     143862856      59412143.0      64760273.0  False   \n",
      "1791   FAIL      12659931     236848653.0     236848653.0  False   \n",
      "1792   FAIL      17263543      23018057.0      23018057.0  False   \n",
      "1793   PASS       5997631      53978683.0      53978683.0  False   \n",
      "\n",
      "                      genres  \\\n",
      "0                     Comedy   \n",
      "1     Action,Science Fiction   \n",
      "2              Drama,History   \n",
      "3        Action,Comedy,Crime   \n",
      "4                      Drama   \n",
      "...                      ...   \n",
      "1789   Action,Crime,Thriller   \n",
      "1790    Crime,Drama,Thriller   \n",
      "1791   Action,Crime,Thriller   \n",
      "1792   Family,Fantasy,Comedy   \n",
      "1793   Comedy,Drama,Thriller   \n",
      "\n",
      "                                             prod_comps  \\\n",
      "0     Mandeville Films,Relativity Media,SkyLand Ente...   \n",
      "1     Rena Film,DNA Films,Reliance Big Entertainment...   \n",
      "2     New Regency Pictures,Plan B Entertainment,Rive...   \n",
      "3     Universal Pictures,Marc Platt Productions,EFO ...   \n",
      "4              Warner Bros. Pictures,Legendary Pictures   \n",
      "...                                                 ...   \n",
      "1789              Shaft Productions,Metro-Goldwyn-Mayer   \n",
      "1790                                       ABC Pictures   \n",
      "1791  D'Antoni Productions,Schine-Moore Productions,...   \n",
      "1792                        David L. Wolper Productions   \n",
      "1793                                   20th Century Fox   \n",
      "\n",
      "                                               overview  \\\n",
      "0     Brilliant student Jeff Chang has the most impo...   \n",
      "1     In the future, America is a dystopian wastelan...   \n",
      "2     In the pre-Civil War United States, Solomon No...   \n",
      "3     A DEA agent and an undercover Naval Intelligen...   \n",
      "4     The powerful story of Jackie Robinson, the leg...   \n",
      "...                                                 ...   \n",
      "1789  Cool black private eye John Shaft is hired by ...   \n",
      "1790  David Sumner, a mild-mannered academic from th...   \n",
      "1791  Tough narcotics detective 'Popeye' Doyle is in...   \n",
      "1792  When eccentric candy man Willy Wonka promises ...   \n",
      "1793  An all-female rock group finds fame, love, and...   \n",
      "\n",
      "                                                tagline  perc_women_producers  \\\n",
      "0                                              Finally.                  0.00   \n",
      "1                                   Judgement is coming                  0.00   \n",
      "2       The extraordinary true story of Solomon Northup                  0.25   \n",
      "3                                       2 Guns, 1 Bank.                  0.00   \n",
      "4                  The True Story of an American Legend                  0.00   \n",
      "...                                                 ...                   ...   \n",
      "1789  The mob wanted Harlem back. They got shaft...u...                  0.00   \n",
      "1790     Sometimes a man is forced to defend his honor.                  0.00   \n",
      "1791  There are no rules and no holds barred when Po...                  0.00   \n",
      "1792                          It's Scrumdidilyumptious!                  0.00   \n",
      "1793  This Is Not A Sequel. There Has Never Been Any...                  0.00   \n",
      "\n",
      "      perc_women_directors  \n",
      "0                      0.0  \n",
      "1                      0.0  \n",
      "2                      0.0  \n",
      "3                      0.0  \n",
      "4                      0.0  \n",
      "...                    ...  \n",
      "1789                   0.0  \n",
      "1790                   0.0  \n",
      "1791                   0.0  \n",
      "1792                   0.0  \n",
      "1793                   0.0  \n",
      "\n",
      "[1735 rows x 15 columns]\n"
     ]
    }
   ],
   "source": [
    "print(null_values_in_columns(select_columns))\n",
    "print()\n",
    "print(select_columns.isnull().sum())\n",
    "print()\n",
    "print(select_columns)"
   ]
  },
  {
   "cell_type": "code",
   "execution_count": 12,
   "id": "ff9a9d2c",
   "metadata": {},
   "outputs": [],
   "source": [
    "select_columns.to_csv(\"bechdel_analysis_data_cleaned.csv\", encoding='utf-8', index=False)"
   ]
  }
 ],
 "metadata": {
  "kernelspec": {
   "display_name": "Python 3 (ipykernel)",
   "language": "python",
   "name": "python3"
  },
  "language_info": {
   "codemirror_mode": {
    "name": "ipython",
    "version": 3
   },
   "file_extension": ".py",
   "mimetype": "text/x-python",
   "name": "python",
   "nbconvert_exporter": "python",
   "pygments_lexer": "ipython3",
   "version": "3.9.13"
  }
 },
 "nbformat": 4,
 "nbformat_minor": 5
}
